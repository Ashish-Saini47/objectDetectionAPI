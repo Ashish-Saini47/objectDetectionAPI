{
 "cells": [
  {
   "cell_type": "code",
   "execution_count": 1,
   "id": "4fb04103",
   "metadata": {},
   "outputs": [],
   "source": [
    "from flask import Flask, jsonify\n",
    "from flask import request\n",
    "import torch"
   ]
  },
  {
   "cell_type": "code",
   "execution_count": null,
   "id": "2fbea9ee",
   "metadata": {},
   "outputs": [
    {
     "name": "stdout",
     "output_type": "stream",
     "text": [
      " * Serving Flask app \"__main__\" (lazy loading)\n",
      " * Environment: production\n",
      "\u001b[31m   WARNING: This is a development server. Do not use it in a production deployment.\u001b[0m\n",
      "\u001b[2m   Use a production WSGI server instead.\u001b[0m\n",
      " * Debug mode: off\n"
     ]
    },
    {
     "name": "stderr",
     "output_type": "stream",
     "text": [
      " * Running on all addresses.\n",
      "   WARNING: This is a development server. Do not use it in a production deployment.\n",
      " * Running on http://192.168.5.116:5000/ (Press CTRL+C to quit)\n",
      "Downloading: \"https://github.com/ultralytics/yolov5/zipball/master\" to C:\\Users\\hp/.cache\\torch\\hub\\master.zip\n",
      "YOLOv5  2023-1-30 Python-3.9.13 torch-1.13.1+cpu CPU\n",
      "\n",
      "Loading best.tflite for TensorFlow Lite inference...\n",
      "Adding AutoShape... \n",
      "192.168.5.116 - - [30/Jan/2023 09:54:00] \"POST / HTTP/1.1\" 200 -\n"
     ]
    },
    {
     "name": "stdout",
     "output_type": "stream",
     "text": [
      "tensor([[  0.94007,   0.00000, 224.00000, 223.71925,   0.83404,   1.00000]])\n",
      "      xmin  ymin   xmax        ymax  confidence  class    name\n",
      "0  0.94007   0.0  224.0  223.719254    0.834038      1  class1\n"
     ]
    }
   ],
   "source": [
    "app = Flask(__name__)\n",
    "\n",
    "@app.route(\"/\", methods=[\"POST\"])\n",
    "def detect():\n",
    "    reqRef = request.get_json(force=True)\n",
    "    weigth= reqRef[\"model\"]\n",
    "    imgUrl=reqRef[\"imgUrl\"]\n",
    "    try:\n",
    "        model = torch.hub.load('ultralytics/yolov5', 'custom', \"best.tflite\" ,force_reload=True)\n",
    "        results = model(imgUrl)\n",
    "        print(results.xyxy[0] )\n",
    "        print(results.pandas().xyxy[0] )\n",
    "        return jsonify({\n",
    "            \"weigthURL\":\"Detected\",\n",
    "       \n",
    "        })\n",
    "    except Exception as e:\n",
    "        print(type(str(e)))\n",
    "        return jsonify({\n",
    "            \"weigthURL\":\"not Detected\",\n",
    "            \"error\":str(e)\n",
    "        })\n",
    "\n",
    "if __name__ == '__main__':\n",
    "    app.run(host='0.0.0.0', port = 5000)\n"
   ]
  },
  {
   "cell_type": "code",
   "execution_count": null,
   "id": "d100f543",
   "metadata": {},
   "outputs": [],
   "source": []
  }
 ],
 "metadata": {
  "kernelspec": {
   "display_name": "Python 3 (ipykernel)",
   "language": "python",
   "name": "python3"
  },
  "language_info": {
   "codemirror_mode": {
    "name": "ipython",
    "version": 3
   },
   "file_extension": ".py",
   "mimetype": "text/x-python",
   "name": "python",
   "nbconvert_exporter": "python",
   "pygments_lexer": "ipython3",
   "version": "3.9.13"
  }
 },
 "nbformat": 4,
 "nbformat_minor": 5
}
